{
 "cells": [
  {
   "cell_type": "raw",
   "id": "46c7bf0e",
   "metadata": {},
   "source": [
    "---\n",
    "title: \"Fitness Tracker Case Study\"\n",
    "author: \"David McArtor\"\n",
    "date: \"11/3/2023\"\n",
    "output:\n",
    "  pdf_document: default\n",
    "  html_document: default\n",
    "---"
   ]
  },
  {
   "cell_type": "markdown",
   "id": "3696dce0",
   "metadata": {},
   "source": [
    "# Introduction\n",
    "\n",
    "This project is being undertaken as a capstone to the Google Data Analytics Course on Coursera. It aims to exhibit a holistic application of the data analysis methodologies, tools, and techniques learned throughout the course. The core objective of this exercise is to glean actionable insights from consumer data to steer the marketing strategy of Bellabeat, a high-tech manufacturer of health-focused products for women, thereby unlocking potential growth opportunities.\n",
    "\n",
    "# Case Study Background\n",
    "\n",
    "Bellabeat, a high-tech company specializing in health-focused products for women, aims to broaden its market presence in the global smart device sector. Under the vision of Urška Sršen, the co-founder and Chief Creative Officer, analyzing smart device fitness data is seen as a catalyst for unveiling new growth opportunities. The product lineup includes the Bellabeat App, Leaf, Time, and Spring.\n",
    "\n",
    "Sršen has tasked the marketing analytics team to delve into smart device usage data to uncover insights into consumer behaviors. The insights derived are anticipated to shape Bellabeat's marketing strategy, with an end goal of presenting an analysis and strategic recommendations to the executive team.\n",
    "\n",
    "## Business Questions:\n",
    "\n",
    "1. What are some trends in smart device usage?\n",
    "2. How could these trends apply to Bellabeat customers?\n",
    "3. How could these trends help influence Bellabeat marketing strategy?"
   ]
  },
  {
   "cell_type": "markdown",
   "id": "89a3af97",
   "metadata": {},
   "source": [
    "The task at hand navigates through the sequential stages of the data analysis process: posing pertinent questions, preparing the data, processing the data, undertaking an in-depth analysis, sharing the insights, and advising actions based on the findings.\n",
    "\n",
    "## Dataset:\n",
    "\n",
    "The data harnessed for this analysis is sourced from the [FitBit Fitness Tracker Data](https://www.kaggle.com/arashnic/fitbit) available on Kaggle, contributed under the CC0: Public Domain license by Mobius. This dataset encapsulates personal fitness tracker data from thirty-three consenting Fitbit users, comprising minute-level output for physical activity, heart rate, and sleep monitoring. The data encompasses vital metrics such as daily activity, steps, and heart rate, which serve as a conduit to scrutinize users' habits. This substantial dataset provides a foundation to explore and comprehend how consumers interact with their smart devices, which in turn, is instrumental in formulating data-driven marketing strategies for Bellabeat.\n",
    "\n",
    "**Limitations:**\n",
    "\n",
    "Sample Size: With data from 33 users, the sample size is relatively small and may not provide a broad representation of general smart device usage trends.\n",
    "\n",
    "Single Brand Usage: The data solely reflects Fitbit device usage, which could lead to brand-specific biases.\n",
    "Missing Demographics: There's no demographic information provided which might be crucial to understanding different user behaviors.\n",
    "\n",
    "Incomplete Data: Some metrics are available for a subset of users only, e.g., heart rate data is available for just 7 users, and sleep data by minute is available for 24 users.\n",
    "\n",
    "Interpretability: There is no metadata included for these data, with no description of how they are collected or descriptions of some of the variables included.\n",
    "\n",
    "Limited timeframe: These data were collected over a just a period of one month (mid-April to mid-May) in 2016, and thus cannot show long-term trends or seasonal variation.\n",
    "\n",
    "Potential bias: The participants responded to a survey and submitted their FitBit data.  We have no data on how these participants were selected or whether they are in any way representative."
   ]
  },
  {
   "cell_type": "markdown",
   "id": "a4533d89",
   "metadata": {},
   "source": [
    "## Loading packages and libraries"
   ]
  },
  {
   "cell_type": "code",
   "execution_count": null,
   "id": "1225a6ca",
   "metadata": {
    "lines_to_next_cell": 2,
    "name": "Load Libraries and Packages"
   },
   "outputs": [],
   "source": [
    "install.packages(\"tidyverse\")\n",
    "install.packages(\"janitor\")\n",
    "library(tidyverse)\n",
    "library(janitor)      # For initial data cleaning, such as removing empty columns/rows and cleaning column names\n",
    "library(psych)        # For more complex summary information\n",
    "library(tidyr)        # For tidying data, like gathering, spreading, and    handling missing values\n",
    "library(readr)        # For efficiently reading in data\n",
    "library(lubridate)    # For handling and manipulating date/time data\n",
    "library(dplyr)        # For data manipulation and transformation\n",
    "library(ggplot2)      # For data visualization"
   ]
  },
  {
   "cell_type": "markdown",
   "id": "3e1664fa",
   "metadata": {},
   "source": [
    "## Loading files\n",
    "The available CSV files include a number of data elements available as daily, hourly, or by minute.  I will ignore the minute-by-minute data, as many of the daily datasets contain total minutes per day.  The dailyActivity_merged file appears to aggregate a number of other files, so I will focus on that, sleepDay, Weight, and the hourly datasets to explore more granular features."
   ]
  },
  {
   "cell_type": "code",
   "execution_count": null,
   "id": "884f3915",
   "metadata": {},
   "outputs": [],
   "source": [
    "daily_activity <- read.csv(\"dailyActivity_merged.csv\")\n",
    "\n",
    "sleep_day <- read.csv(\"sleepDay_merged.csv\")\n",
    "\n",
    "weight <- read.csv(\"weightLogInfo_merged.csv\")\n",
    "\n",
    "hourly_calories <- read.csv(\"hourlyCalories_merged.csv\")\n",
    "\n",
    "hourly_intensities <- read.csv(\"hourlyIntensities_merged.csv\")\n",
    "\n",
    "hourly_steps <- read.csv(\"hourlySteps_merged.csv\")"
   ]
  },
  {
   "cell_type": "markdown",
   "id": "65bfcb64",
   "metadata": {},
   "source": [
    "## Exploring data organization\n",
    "\n",
    "Now, I will explore each of the datasets to get a feel for how they are organized and if anything seems unusual or raises any questions."
   ]
  },
  {
   "cell_type": "markdown",
   "id": "858c3f70",
   "metadata": {
    "lines_to_next_cell": 0
   },
   "source": [
    "First, a look at the daily_activity data:"
   ]
  },
  {
   "cell_type": "code",
   "execution_count": null,
   "id": "07dbf354",
   "metadata": {
    "name": "Daily Activity Review"
   },
   "outputs": [],
   "source": [
    "head(daily_activity)\n",
    "str(daily_activity)"
   ]
  },
  {
   "cell_type": "markdown",
   "id": "a4be189c",
   "metadata": {
    "lines_to_next_cell": 0
   },
   "source": [
    "Now for the sleep day data:"
   ]
  },
  {
   "cell_type": "code",
   "execution_count": null,
   "id": "35e747f2",
   "metadata": {
    "name": "Sleep Day Review"
   },
   "outputs": [],
   "source": [
    "head(sleep_day)\n",
    "str(sleep_day)\n",
    "unique(sleep_day$SleepDay) # To see if the hourly information holds any value"
   ]
  },
  {
   "cell_type": "markdown",
   "id": "443b1d1a",
   "metadata": {
    "lines_to_next_cell": 0
   },
   "source": [
    "Hourly calories:"
   ]
  },
  {
   "cell_type": "code",
   "execution_count": null,
   "id": "b7686e5f",
   "metadata": {
    "name": "Hourly Calories Report"
   },
   "outputs": [],
   "source": [
    "head(hourly_calories)\n",
    "str(hourly_calories)"
   ]
  },
  {
   "cell_type": "markdown",
   "id": "c7b4d774",
   "metadata": {
    "lines_to_next_cell": 0
   },
   "source": [
    "Hourly steps:"
   ]
  },
  {
   "cell_type": "code",
   "execution_count": null,
   "id": "d6478714",
   "metadata": {
    "name": "Hourly Steps Report"
   },
   "outputs": [],
   "source": [
    "head(hourly_steps)\n",
    "str(hourly_steps)"
   ]
  },
  {
   "cell_type": "markdown",
   "id": "b347e43b",
   "metadata": {
    "lines_to_next_cell": 0
   },
   "source": [
    "Hourly intensities:"
   ]
  },
  {
   "cell_type": "code",
   "execution_count": null,
   "id": "1b631dd6",
   "metadata": {
    "name": "Hourly Intensities Report"
   },
   "outputs": [],
   "source": [
    "head(hourly_intensities)\n",
    "str(hourly_intensities)"
   ]
  },
  {
   "cell_type": "markdown",
   "id": "a59f43ee",
   "metadata": {},
   "source": [
    "And finally weight:"
   ]
  },
  {
   "cell_type": "code",
   "execution_count": null,
   "id": "43611e93",
   "metadata": {
    "name": "Weight Report"
   },
   "outputs": [],
   "source": [
    "head(weight)\n",
    "str(weight)"
   ]
  },
  {
   "cell_type": "markdown",
   "id": "95a76c35",
   "metadata": {},
   "source": [
    "**Observations:**\n",
    "There aren't many surprises here.  For all of them, the date and time are of the character datatype, so I will have to convert these to DateTime.  The hourly calories, steps, and intensities all have the same number of observations and appear to have the same IDs, so I should be able to merge these together later.\n",
    "\n",
    "## Review Data for Cleaning\n",
    "\n",
    "Next, I'll check each dataset under consideration for number of unique IDs (to understand how many participants are represented), as well as for null and duplicate values to inform my data cleaning procedure."
   ]
  },
  {
   "cell_type": "code",
   "execution_count": null,
   "id": "9f66010a",
   "metadata": {
    "name": "Data Report"
   },
   "outputs": [],
   "source": [
    "# Load datasets into list\n",
    "datasets <- list(\n",
    "   \"Daily Activity\" = daily_activity,\n",
    "   \"Sleep Day\" = sleep_day,\n",
    "   \"Weight\" = weight,\n",
    "   \"Hourly Calories\" = hourly_calories,\n",
    "   \"Hourly Intensities\" = hourly_intensities,\n",
    "   \"Hourly Steps\" = hourly_steps\n",
    ")\n",
    "\n",
    "# Define a function to compute statistics for each dataset\n",
    "# Modify the compute_stats function to include dataset_name as a column\n",
    "compute_stats <- function(data, dataset_name) {\n",
    "  data.frame(\n",
    "    Dataset_Name = dataset_name, # the name of each csv file\n",
    "    Unique_IDs = length(unique(data$Id)), # number of unique IDs\n",
    "    Null_Values = sum(is.na(data)), # number of nulls\n",
    "    Duplicated_Rows = sum(duplicated(data)) # number of duplicated rows\n",
    "  )\n",
    "}\n",
    "\n",
    "# Use purrr::imap_dfr to apply the function to each dataset and combine the results into a single data frame\n",
    "stats_ds <- purrr::imap_dfr(datasets, compute_stats)\n",
    "\n",
    "# View the summary data frame\n",
    "print(stats_ds)"
   ]
  },
  {
   "cell_type": "markdown",
   "id": "86e423bc",
   "metadata": {},
   "source": [
    "This reveals that my weightLogInfo dataset only has 8 participants, which is few enough that I don't think I can make an informed analysis, so I will exclude it from further analysis.  The sleepDay file only has 24 of 33 participants, which is not ideal, but I will consider it anyway while keeping that in mind.  It also has 3 duplicates that I will need to clean up.  The other files look like they're in good shape."
   ]
  },
  {
   "cell_type": "markdown",
   "id": "61447e4f",
   "metadata": {},
   "source": [
    "## Cleaning the data\n",
    "\n",
    "First, I'll remove the duplicate rows in sleep_data"
   ]
  },
  {
   "cell_type": "code",
   "execution_count": null,
   "id": "d1caef1b",
   "metadata": {
    "name": "Remove duplicates"
   },
   "outputs": [],
   "source": [
    "sleep_day <- distinct(sleep_day)"
   ]
  },
  {
   "cell_type": "markdown",
   "id": "9763af2b",
   "metadata": {},
   "source": [
    "Next, I'm going to convert the date data in daily_activity and sleep_day from character data type to Date data type.  Sleep_day ostensibly has time data in there, but it is all identical (midnight) and thus I will drop it.  I will then merge the datasets so that I have all of the sleep data (with 24 participants) along with all of the activity data that corresponds to it.  I will use this new dataset (activity_plus_sleep) for my sleep-related analysis, and keep my larger daily_activity dataset for general activity analysis."
   ]
  },
  {
   "cell_type": "code",
   "execution_count": null,
   "id": "383306b2",
   "metadata": {},
   "outputs": [],
   "source": [
    "# Confirm I have lubridate ready to go\n",
    "library(lubridate)\n",
    "\n",
    "# Convert ActivityDate into Date type\n",
    "daily_activity$ActivityDate <- mdy(daily_activity$ActivityDate)\n",
    "\n",
    "# Turn SleepDay from format of \"m/d/Y H:M:S\" to just date\n",
    "sleep_day$SleepDay <- as.Date(mdy_hms(sleep_day$SleepDay))\n",
    "\n",
    "# Perform an inner join on the Id and the date columns\n",
    "activity_plus_sleep <- inner_join(daily_activity, sleep_day, by = c(\"Id\", \"ActivityDate\" = \"SleepDay\"))\n",
    "\n",
    "activity_plus_sleep <- activity_plus_sleep %>%\n",
    "    rename(Date = ActivityDate)\n",
    "\n",
    "daily_activity <- daily_activity %>%\n",
    "    rename(Date = ActivityDate)\n",
    "\n",
    "# Check the first few rows of the new dataset\n",
    "head(activity_plus_sleep)"
   ]
  },
  {
   "cell_type": "markdown",
   "id": "e57ad504",
   "metadata": {},
   "source": [
    "And then I will do something similar to hourly_calories, hourly_intensities, and hourly_steps.  I will convert their date and time information into DateTime format and then merge them into one dataset.  "
   ]
  },
  {
   "cell_type": "code",
   "execution_count": null,
   "id": "806c9f96",
   "metadata": {
    "lines_to_next_cell": 0
   },
   "outputs": [],
   "source": [
    "\n",
    "# Ensure libraries are loaded\n",
    "library(dplyr)\n",
    "library(lubridate)\n",
    "\n",
    "# Create a function to apply the same transformations to each dataset\n",
    "process_hourly_data <- function(data) {\n",
    "  data %>%\n",
    "    mutate(\n",
    "      ActivityHour = mdy_hms(ActivityHour), # Convert to datetime format\n",
    "      Hour = hour(ActivityHour),            # Extract hour information into a new column\n",
    "      Date = as.Date(ActivityHour)          # Extract date information into a new column\n",
    "    ) %>%\n",
    "      select(-ActivityHour)                 # Remove the original ActivityHour column\n",
    "}\n",
    "\n",
    "# Apply the function to each of the other datasets\n",
    "hourly_calories <- process_hourly_data(hourly_calories)\n",
    "hourly_intensities <- process_hourly_data(hourly_intensities)\n",
    "hourly_steps <- process_hourly_data(hourly_steps)\n",
    "\n",
    "# Check the changes\n",
    "head(hourly_calories)\n",
    "head(hourly_intensities)\n",
    "head(hourly_steps)\n"
   ]
  },
  {
   "cell_type": "markdown",
   "id": "14e197af",
   "metadata": {},
   "source": [
    "This confirms that I was able to convert to date format and extract the hourly information, so now I can join these datasets together."
   ]
  },
  {
   "cell_type": "code",
   "execution_count": null,
   "id": "75cb77b1",
   "metadata": {
    "lines_to_next_cell": 0
   },
   "outputs": [],
   "source": [
    "# Perform a full outer join on the Id, Date, and Hour columns\n",
    "hourly_data_partial <- full_join(hourly_calories, hourly_intensities, by = c(\"Id\", \"Hour\", \"Date\"))\n",
    "hourly_data <- full_join(hourly_data_partial, hourly_steps, by = c(\"Id\", \"Hour\", \"Date\"))\n",
    "\n",
    "# View the first few rows and structure of the merged data\n",
    "head(hourly_data)\n",
    "str(hourly_data)"
   ]
  },
  {
   "cell_type": "markdown",
   "id": "049f53a1",
   "metadata": {},
   "source": [
    "Now, there are three data sets I will be working with: daily_activity (a range of different activity variables with 33 participants), activity_plus_sleep (a range of activity and sleep variables with 24 participants), and hourly_data (hourly intensity, steps, and calories burned data from 33 participants).  Before I begin the analysis, there is one more variable I'd like to add to my data sets: the day of the week."
   ]
  },
  {
   "cell_type": "code",
   "execution_count": null,
   "id": "ccb1a984",
   "metadata": {},
   "outputs": [],
   "source": [
    "add_week_day <- function(data) {\n",
    "   data <- data %>%\n",
    "  mutate(\n",
    "    WeekDay = wday(Date, label = TRUE, abbr = FALSE) # Adds the weekday as a factor with full names\n",
    "  )}\n",
    "\n",
    "# Apply the function to each of the other datasets\n",
    "daily_activity <- add_week_day(daily_activity)\n",
    "activity_plus_sleep <- add_week_day(activity_plus_sleep)\n",
    "hourly_data <- add_week_day(hourly_data)"
   ]
  },
  {
   "cell_type": "markdown",
   "id": "8caaa510",
   "metadata": {},
   "source": [
    "## Final adjustments to the datasets and Univariate Analysis\n",
    "Now, let's take a look at the final datasets we will be working with:"
   ]
  },
  {
   "cell_type": "code",
   "execution_count": null,
   "id": "6dc6f5ff",
   "metadata": {},
   "outputs": [],
   "source": [
    "head(activity_plus_sleep)\n",
    "\n",
    "summary(activity_plus_sleep)\n",
    "\n",
    "suppressWarnings({\n",
    "  describe(activity_plus_sleep)\n",
    "})\n",
    "\n",
    "unique_count1 <- sapply(activity_plus_sleep, n_distinct)\n",
    "unique_count1"
   ]
  },
  {
   "cell_type": "markdown",
   "id": "60d52b61",
   "metadata": {},
   "source": [
    "Based on this review, I'm going to remove the \"LoggedActivitiesDistance\" and \"SedentaryActiveDistance\" as these two columns contain almost uniformly 0s, and \"TotalSleepRecords\" as I don't plan to explore that datum."
   ]
  },
  {
   "cell_type": "code",
   "execution_count": null,
   "id": "92caf77e",
   "metadata": {},
   "outputs": [],
   "source": [
    "activity_plus_sleep <- select(activity_plus_sleep, -LoggedActivitiesDistance, -SedentaryActiveDistance, -TotalSleepRecords)\n",
    "\n",
    "#And check again to confirm\n",
    "head(activity_plus_sleep)"
   ]
  },
  {
   "cell_type": "markdown",
   "id": "2f630e52",
   "metadata": {},
   "source": [
    "Now let's check out daily_activity:"
   ]
  },
  {
   "cell_type": "code",
   "execution_count": null,
   "id": "fefb835d",
   "metadata": {
    "lines_to_next_cell": 0
   },
   "outputs": [],
   "source": [
    "head(daily_activity)\n",
    "\n",
    "summary(daily_activity)\n",
    "\n",
    "suppressWarnings({\n",
    "  describe(daily_activity)\n",
    "})\n",
    "\n",
    "unique_count1 <- sapply(daily_activity, n_distinct)\n",
    "unique_count1"
   ]
  },
  {
   "cell_type": "markdown",
   "id": "8c983837",
   "metadata": {
    "lines_to_next_cell": 0
   },
   "source": [
    "I'm going to remove the same columns that don't contain much information:"
   ]
  },
  {
   "cell_type": "code",
   "execution_count": null,
   "id": "2fc39c1e",
   "metadata": {},
   "outputs": [],
   "source": [
    "daily_activity <- select(daily_activity, -LoggedActivitiesDistance, -SedentaryActiveDistance)\n",
    "\n",
    "head(daily_activity)"
   ]
  },
  {
   "cell_type": "markdown",
   "id": "d42fd907",
   "metadata": {},
   "source": [
    "I also have two variables (TotalDistance and TrackerDistance) that appear to be identical based on the header rows.  Let's look at this more carefully."
   ]
  },
  {
   "cell_type": "code",
   "execution_count": null,
   "id": "25d437c7",
   "metadata": {
    "lines_to_next_cell": 0,
    "name": "Correlation of TotalDistance and TrackerDistance"
   },
   "outputs": [],
   "source": [
    "cor(daily_activity$TotalDistance, daily_activity$TrackerDistance, use = \"complete.obs\")\n"
   ]
  },
  {
   "cell_type": "markdown",
   "id": "af7b2dc3",
   "metadata": {},
   "source": [
    "These are almost, though not quite, identical, so I will remove tracker distance."
   ]
  },
  {
   "cell_type": "code",
   "execution_count": null,
   "id": "e80c2af6",
   "metadata": {
    "lines_to_next_cell": 2,
    "name": "Removing TrackerDistance column"
   },
   "outputs": [],
   "source": [
    "# Removing TrackerDistance column from daily_activity dataset\n",
    "\n",
    "library(dplyr)\n",
    "daily_activity <- select(daily_activity, -TrackerDistance)\n"
   ]
  },
  {
   "cell_type": "markdown",
   "id": "2c0208c1",
   "metadata": {
    "lines_to_next_cell": 0
   },
   "source": [
    "### Examine and Clean hourly_data\n",
    "\n",
    "Now for examining and cleaning hourly_data"
   ]
  },
  {
   "cell_type": "code",
   "execution_count": null,
   "id": "e21a45ed",
   "metadata": {},
   "outputs": [],
   "source": [
    "head(hourly_data)\n",
    "\n",
    "summary(hourly_data)\n",
    "\n",
    "suppressWarnings({\n",
    "  describe(hourly_data)\n",
    "})\n",
    "\n",
    "unique_count1 <- sapply(hourly_data, n_distinct)\n",
    "unique_count1"
   ]
  },
  {
   "cell_type": "markdown",
   "id": "eea27510",
   "metadata": {},
   "source": [
    "The Date, Hour, WeekDay and Id variables are all as expected, and WeekDay is roughly evenly distributed.  Calories is somewhat left-skewed with a max much larger than the 3rd quartile, and so may well contain outliers, though the mean and median are not too far apart. A max of 948 calories burned in one hour, though physically possible also seems highly unlikely, calling in to question the accuracy of that. TotalIntensity is highly left-skewed with a maximum value an order of magnitude higher than the 3rd quartile, and StepTotal is even worse, with its max two orders of magnitude higher than the 3rd quartile and the mean and median very far apart.  I will examine these variables for outliers.\n",
    "\n",
    "The apparent distribution of the \"AverageIntensity\" column makes me wonder if this is a column also largely filled with zeros, and so I want to look at that specifically."
   ]
  },
  {
   "cell_type": "code",
   "execution_count": null,
   "id": "1d626b93",
   "metadata": {
    "lines_to_next_cell": 0
   },
   "outputs": [],
   "source": [
    "\n",
    "# Calculate the percentage of zeros in the AverageIntensity column\n",
    "percentage_zeros <- mean(hourly_data$AverageIntensity == 0) * 100\n",
    "\n",
    "# Print the result\n",
    "percentage_zeros\n"
   ]
  },
  {
   "cell_type": "markdown",
   "id": "0c962371",
   "metadata": {},
   "source": [
    "Only about 40% of the values are zero, so there might be some useful data here, so we'll keep it.\n"
   ]
  },
  {
   "cell_type": "code",
   "execution_count": null,
   "id": "08ec9bd3",
   "metadata": {
    "lines_to_next_cell": 0,
    "name": "Defining a histbox function"
   },
   "outputs": [],
   "source": [
    "\n",
    "#Defining a function to create a box plot and histogram\n",
    "\n",
    "hist_box <- function(dataframe, column_name) {\n",
    "  col_sym <- sym(column_name)  # Convert string to symbol\n",
    "\n",
    "# Box Plot\n",
    "box_plot <- ggplot(dataframe, aes(x = factor(1), y = !!col_sym)) + \n",
    "  geom_boxplot() +\n",
    "  theme_minimal() +\n",
    "  ggtitle(paste(\"Box Plot of\", column_name)) +\n",
    "  xlab(\"\") # Remove x-axis label\n",
    "\n",
    "print(box_plot)\n",
    "\n",
    "  # Histogram\n",
    "  histogram <- ggplot(dataframe, aes(x = !!col_sym)) + \n",
    "    geom_histogram(bins = 30, fill = \"blue\", color = \"black\") +\n",
    "    theme_minimal() +\n",
    "    ggtitle(paste(\"Histogram of\", column_name))\n",
    "  \n",
    "  print(histogram)\n",
    "}\n"
   ]
  },
  {
   "cell_type": "code",
   "execution_count": null,
   "id": "247dea28",
   "metadata": {
    "lines_to_next_cell": 0,
    "name": "Running the histbox on hourly_data columns"
   },
   "outputs": [],
   "source": [
    "# Running the histbox on hourly_data columns\n",
    "hist_box(hourly_data, \"Calories\")\n",
    "hist_box(hourly_data, \"TotalIntensity\")\n",
    "hist_box(hourly_data, \"StepTotal\")"
   ]
  },
  {
   "cell_type": "markdown",
   "id": "6f60d658",
   "metadata": {},
   "source": []
  },
  {
   "cell_type": "markdown",
   "id": "2b07fb6b",
   "metadata": {},
   "source": [
    "## Analysis\n",
    "\n",
    "### Hourly Data (Steps, Intensity, Calories)\n",
    "\n",
    "Let's start with the hourly_data, let's examine how these data vary over the course of a day and over the course of a week.  First, I'll create an aggregate dataset of the means for the primary variables of interest (Intensity, StepTotal, Calories) grouped by Hour, and then visualize that."
   ]
  },
  {
   "cell_type": "code",
   "execution_count": null,
   "id": "8e14063e",
   "metadata": {
    "name": "Aggregate Hourly Data"
   },
   "outputs": [],
   "source": [
    "library(dplyr)\n",
    "hourly_agg <- hourly_data %>%\n",
    "  group_by(Hour) %>%\n",
    "  summarise(\n",
    "    AvgStepTotal = mean(StepTotal, na.rm = TRUE),\n",
    "    AvgTotalIntensity = mean(TotalIntensity, na.rm = TRUE),\n",
    "    AvgCalories = mean(Calories, na.rm = TRUE)\n",
    "  )\n",
    "\n",
    "# Since the scale of StepTotal is different from TotalIntensity and Calories, I'll plot StepTotal by itself.\n",
    "library(ggplot2)\n",
    "# Plot for StepTotal\n",
    "ggplot(hourly_agg, aes(x = Hour)) +\n",
    "  geom_line(aes(y = AvgStepTotal, color = \"Step Total\")) +\n",
    "  labs(y = \"Average Step Total\", color = \"Metric\") +\n",
    "  theme_minimal() +\n",
    "  ggtitle(\"Average Step Total by Hour\")\n",
    "\n",
    "# Plot for TotalIntensity and Calories on the same plot\n",
    "ggplot(hourly_agg) +\n",
    "  geom_line(aes(x = Hour, y = AvgTotalIntensity, color = \"Total Intensity\")) +\n",
    "  geom_line(aes(x = Hour, y = AvgCalories, color = \"Calories\")) +\n",
    "  scale_color_manual(values = c(\"Total Intensity\" = \"red\", \"Calories\" = \"green\")) +\n",
    "  labs(y = \"Average Value\", x = \"Hour of the Day\", color = \"Metric\") +\n",
    "  theme_minimal() +\n",
    "  ggtitle(\"Average Total Intensity and Calories by Hour\")"
   ]
  },
  {
   "cell_type": "markdown",
   "id": "7ae23ac8",
   "metadata": {},
   "source": [
    "We can see a clear trendline here in terms of which hours of the day the users (in aggregate) are recording the most steps, calories burned, and intensity, though we do see greater variation hourly in terms of steps.  We see a very low amount of activity and steps from roughly 10pm to 5am, corresponding to the most common hours for sleep, though the fact that we still see some calories burned indicates that users are wearing their Fitbit and that we have a baseline metabolism of around 70 calories burned per hour during sleep.\n",
    "\n",
    "Activity increases sharply from 5am to 8am, and then varies up and down from 8am to 8pm, where it drops sharply.  During the main hours of the day, we see a clear bimodal distribution, with the highest peak at around 6pm-7pm (likely corresponding to people exercising or doing other activities after work), a lower peak between 12pm and 2pm (perhaps corresponding to exercise or other activity during a lunch break from work), and a significant trough between those two peaks right around 3pm, which from personal experience corresponds with my lowest energy time of day.\n",
    "\n",
    "All three graphs corroborate this, though the variation is clearest in the StepTotal chart.\n",
    "\n",
    "Given that these graphs are aggregated across all days of the week (and my conclusions are mostly surmising about how this interacts with the work day), let's see how much variation there is between weekdays and weekends, focusing on StepTotal as the variable."
   ]
  },
  {
   "cell_type": "code",
   "execution_count": null,
   "id": "b3df7bc6",
   "metadata": {
    "name": "Plotting hourly step variation between weekdays and weekends"
   },
   "outputs": [],
   "source": [
    "library(dplyr)\n",
    "library(ggplot2)\n",
    "\n",
    "# This is to plot hourly step variation between weekdays and weekends\n",
    "\n",
    "# Create a new column to distinguish between Weekday and Weekend\n",
    "hourly_data <- hourly_data %>%\n",
    "  mutate(DayType = case_when(\n",
    "    WeekDay %in% c('Saturday', 'Sunday') ~ 'Weekend',\n",
    "    TRUE ~ 'Weekday'\n",
    "  ))\n",
    "\n",
    "# Recalculate AvgStepTotal with the new grouping\n",
    "hourly_agg_daytype <- hourly_data %>%\n",
    "  group_by(Hour, DayType) %>%\n",
    "  summarise(AvgStepTotal = mean(StepTotal, na.rm = TRUE)) %>%\n",
    "  ungroup()\n",
    "\n",
    "# Plot for Weekdays\n",
    "ggplot(hourly_agg_daytype %>% filter(DayType == 'Weekday'), aes(x = Hour, y = AvgStepTotal)) +\n",
    "  geom_line(color = \"blue\") +\n",
    "  labs(y = \"Average Step Total\", x = \"Hour of the Day\") +\n",
    "  theme_minimal() +\n",
    "  ggtitle(\"Average Step Total by Hour on Weekdays\")\n",
    "\n",
    "# Plot for Weekends\n",
    "ggplot(hourly_agg_daytype %>% filter(DayType == 'Weekend'), aes(x = Hour, y = AvgStepTotal)) +\n",
    "  geom_line(color = \"red\") +\n",
    "  labs(y = \"Average Step Total\", x = \"Hour of the Day\") +\n",
    "  theme_minimal() +\n",
    "  ggtitle(\"Average Step Total by Hour on Weekends\")\n"
   ]
  },
  {
   "cell_type": "markdown",
   "id": "0b60e027",
   "metadata": {},
   "source": [
    "Our graph of the step total during the weekdays looks very similar to our previous conclusions, suggesting that a lot of the variation is based on the workday (and being suggestive of the idea that most users work a standard week).  During the weekdays, we see the most activity (in terms of steps taken) happening between 6-7pm (soon after work), with a smaller peak between 12pm-2pm (during lunchtime).  On the weekends, we get a somewhat different spread.  The variations around sleep are very similar (with activity dropping sharply around 8pm), but the peak activity time is between 1-2pm, with a trough around 4pm (instead of 3pm like during the weekdays), and another smaller peak around 7pm.  \n",
    "These data suggest that the most popular times for activity (in terms of steps registered on the Fitbit) are midday (12pm-2pm) and in the evening (around 7pm), and a trough in the middle (between 3-4pm) though the size of the peaks switches on the weekends compared to the weekdays.\n",
    "\n",
    "Let's examine overall how much variation in activity we get over the days of the week, in aggregate."
   ]
  },
  {
   "cell_type": "code",
   "execution_count": null,
   "id": "463fdd75",
   "metadata": {
    "name": "Visualizing weekly trends in hourly data"
   },
   "outputs": [],
   "source": [
    "# Visualizing trends by day of the week in hourly data\n",
    "\n",
    "daily_agg <- hourly_data %>%\n",
    "  group_by(WeekDay) %>%\n",
    "  summarise(\n",
    "    AvgStepTotal = mean(StepTotal, na.rm = TRUE),\n",
    "    AvgTotalIntensity = mean(TotalIntensity, na.rm = TRUE),\n",
    "    AvgCalories = mean(Calories, na.rm = TRUE)\n",
    "  )\n",
    "\n",
    "#I'll create separate plots for each one, since they are on different scales\n",
    "\n",
    "ggplot(daily_agg, aes(x = WeekDay)) +\n",
    "  geom_bar(aes(y = AvgStepTotal, fill = \"Step Total\"), stat = \"identity\", position = \"dodge\") +\n",
    "  labs(y = \"Average Value\", fill = \"Metric\") +\n",
    "  theme_minimal() +\n",
    "  theme(axis.text.x = element_text(angle = 45, hjust = 1)) +\n",
    "  ggtitle(\"Average Step Total by WeekDay\")\n",
    "\n",
    "ggplot(daily_agg, aes(x = WeekDay)) +\n",
    "  geom_bar(aes(y = AvgTotalIntensity, fill = \"Total Intensity\"), stat = \"identity\", position = \"dodge\") +\n",
    "  labs(y = \"Average Value\", fill = \"Metric\") +\n",
    "  theme_minimal() +\n",
    "  theme(axis.text.x = element_text(angle = 45, hjust = 1)) +\n",
    "  ggtitle(\"Average Total Intensity by WeekDay\")\n",
    "\n",
    "ggplot(daily_agg, aes(x = WeekDay)) +\n",
    "    geom_bar(aes(y = AvgCalories, fill = \"Calories\"), stat = \"identity\", position = \"dodge\") +\n",
    "  labs(y = \"Average Value\", fill = \"Metric\") +\n",
    "  theme_minimal() +\n",
    "  theme(axis.text.x = element_text(angle = 45, hjust = 1)) +\n",
    "  ggtitle(\"Average Calories Burned by WeekDay\")\n"
   ]
  },
  {
   "cell_type": "markdown",
   "id": "3d8c177a",
   "metadata": {},
   "source": [
    "Interestingly, Calories shows little variation (though the variation it does have matches the other variables), which corresponds with the idea that most of the calories that we burn is from our basic metabolism and that exercise doesn't have an exceptional effect.\n",
    "\n",
    "Looking at Intensity and Steps, we see nearly identical graphs (with the exception of Thursday and Friday: here we see more steps on Thursday and fewer on Friday, while we see a higher average intensity on Friday.  This may correspond to different types of activity on the two days [for example, more intense activity on Friday that doesn't require as many steps, like swimming], but there is not enough variation to be sure).  Otherwise, we a clear trend with Saturday being the most active day of the week (in terms of Avg Steps and Avg Total Intensity), followed by Tuesday and then Monday, with Sunday clearly being the least active day of the week.\n",
    "\n",
    "Summarizing the Hourly Data overall, we can make the following conclusions:\n",
    "\n",
    "- The most active days among the users in this dataset (on average) are Saturdays, Tuesdays, and Mondays.\n",
    "- Sundays are the least active days.\n",
    "- On weekdays, the most active times are around 6pm-7pm, with a smaller peak from 12pm-2pm, and a significant trough around 3pm.\n",
    "- On weekends, the most active times are around 12pm-2pm, with a smaller peak around 7pm, and a significant trough around 4pm.\n",
    "- There is not much variation in calories burned day to day, despite variations in activity\n",
    "\n",
    "### Daily Activity\n",
    "\n",
    "Let's explore the daily_activity dataset in more detail now.  Let's remind ourselves of the variables we're looking and some of the summary data."
   ]
  },
  {
   "cell_type": "code",
   "execution_count": null,
   "id": "fdefd94a",
   "metadata": {
    "name": "Examining daily_activity dataset"
   },
   "outputs": [],
   "source": [
    "summary(daily_activity)\n",
    "head(daily_activity)"
   ]
  },
  {
   "cell_type": "markdown",
   "id": "6d794a00",
   "metadata": {},
   "source": [
    "Here we have daily data showing total steps, total distance, calories, weekday, and measures of both minutes and distance traveled in a variety of different activity categories (presumably based on heart-rate, though that isn't mentioned in the metadata), with the activity categories being: Sedentary, Lightly Active, Fairly Active, Moderately Active, and Very Active.  Note: There is \"ModeratelyActiveDistance\" and \"FairlyActiveMinutes\", which I presume to be alluding to the same thing.\n",
    "\n",
    "Let's start by running all these variables through my previously defined histbox function to visualize distributions."
   ]
  },
  {
   "cell_type": "code",
   "execution_count": null,
   "id": "bbae0e43",
   "metadata": {
    "lines_to_next_cell": 0
   },
   "outputs": [],
   "source": [
    "variables_to_plot <- c(\"TotalSteps\", \"TotalDistance\", \"VeryActiveDistance\", \n",
    "                       \"ModeratelyActiveDistance\", \"LightActiveDistance\", \n",
    "                       \"VeryActiveMinutes\", \"FairlyActiveMinutes\", \n",
    "                       \"LightlyActiveMinutes\", \"SedentaryMinutes\", \"Calories\")\n",
    "\n",
    "for(var in variables_to_plot) {\n",
    "  hist_box(daily_activity, var)\n",
    "}"
   ]
  },
  {
   "cell_type": "markdown",
   "id": "2aaa4578",
   "metadata": {},
   "source": [
    "*Activity Levels:*\n",
    "\n",
    "The range in TotalSteps and TotalDistance suggests a wide variation in daily activity levels among participants, with some being very inactive (min of 0 steps and 0 distance) and others being highly active (max of 36,019 steps and 28.03 km). The mean values being slightly higher than the median for both TotalSteps and TotalDistance indicate a right-skewed distribution, suggesting that a smaller number of very active individuals push the average up.\n",
    "\n",
    "*Intensity of Activity:*\n",
    "\n",
    "The minimum values for VeryActiveDistance, ModeratelyActiveDistance, LightActiveDistance, and VeryActiveMinutes are 0, indicating that there are days when participants do not engage in any significant physical activity.  The maximum values, especially for VeryActiveMinutes (210 minutes) and VeryActiveDistance (21.92 km), indicate that some participants engage in extensive high-intensity activities.  The averages for these variables suggest that most activity is light, with LightActiveDistance having a higher mean than VeryActiveDistance and ModeratelyActiveDistance.\n",
    "\n",
    "*Sedentary Behavior:*\n",
    "\n",
    "The wide range in SedentaryMinutes (from 0 to 1440 minutes, which is a full day) highlights varying levels of sedentary behavior among participants.\n",
    "The mean SedentaryMinutes is less than the median, suggesting a left-skewed distribution where most participants have higher sedentary minutes, but a significant number of very active participants lower the average.\n",
    "\n",
    "*Caloric Burn:*\n",
    "\n",
    "Calories burned ranges widely from 0 to 4900, indicating significant differences in daily energy expenditure among participants. This variance is likely influenced by the varying levels of physical activity and possibly by differences in metabolic rates or inaccuracies in calorie estimation algorithms.\n",
    "\n",
    "*Temporal Patterns:*\n",
    "\n",
    "The distribution of WeekDay entries suggests that the dataset is fairly balanced across different days of the week, with a slight increase in data points for Tuesday and Wednesday. This balance allows for analyzing daily patterns without bias toward specific days.\n",
    "\n",
    "*Other observations:*\n",
    "\n",
    "Across activity levels and distances (except Sedentary), the most common entry is 0 and the distribution is highly right-skewed, with significant outliers in most of the variables.  The most common entry in Sedentary Minutes is 1440, which is an entire day, and it's mostly left-skewed. Interestingly, there are a number of entries that show 400 or fewer minutes of Sedentary activity (including 0), which seems unlikely given that most people, I assume, are sedentary during sleep.  Couple this with the large number of entries showing 0 steps and 0 calories burned (and comparing this to our hourly data which showed a significant mean calorie burn even during sleeping hours), this suggests that either people weren't wearing their FitBits or they weren't functioning properly.  I'm assuming that registering 0 minutes for Very Active and Moderately Active minutes is not surprising, but that 0 calories, 0 steps, or 1440 minutes of sedentary activity are unexpected given that people are actively wearing their FitBits and they are working properly.  Let's remove some of these outliers and examine the histograms given that."
   ]
  },
  {
   "cell_type": "code",
   "execution_count": null,
   "id": "5a656e16",
   "metadata": {
    "lines_to_next_cell": 0
   },
   "outputs": [],
   "source": [
    "library(dplyr)\n",
    "library(ggplot2)\n",
    "\n",
    "# Step 1: Filter out unlikely data points\n",
    "cleaned_daily_activity <- daily_activity %>%\n",
    "  filter(!(TotalSteps == 0 & Calories == 0)) %>%\n",
    "  filter(SedentaryMinutes < 1440)\n",
    "\n",
    "# Step 2: Re-examine distributions with histograms for key variables\n",
    "# Defining a function to create a histogram for a given column\n",
    "plot_histogram <- function(dataframe, column_name) {\n",
    "  ggplot(dataframe, aes_string(x = column_name)) +\n",
    "    geom_histogram(bins = 30, fill = \"blue\", color = \"black\") +\n",
    "    theme_minimal() +\n",
    "    ggtitle(paste(\"Histogram of\", column_name))\n",
    "}\n",
    "# Let's focus on minutes rather than distance for now (though we'll keep TotalDistance)\n",
    "\n",
    "# Applying the function to key variables\n",
    "plot_histogram(cleaned_daily_activity, \"TotalSteps\")\n",
    "plot_histogram(cleaned_daily_activity, \"TotalDistance\")\n",
    "plot_histogram(cleaned_daily_activity, \"VeryActiveMinutes\")\n",
    "plot_histogram(cleaned_daily_activity, \"FairlyActiveMinutes\")\n",
    "plot_histogram(cleaned_daily_activity, \"LightlyActiveMinutes\")\n",
    "plot_histogram(cleaned_daily_activity, \"SedentaryMinutes\")\n",
    "plot_histogram(cleaned_daily_activity, \"Calories\")\n"
   ]
  },
  {
   "cell_type": "markdown",
   "id": "9932f005",
   "metadata": {},
   "source": [
    "These plots provide a perhaps more realistic view of peoples' actual activity levels.  We see quite a few entries with 0 \"very active\" or \"fairly active\" minutes, which is not surprising, but then \"lightly active\" minutes displays a close to normal distribution with a max around 500, which is very reasonable.  Both \"Total Steps\" and \"Total Distance\" display a roughly normal though right-skewed distribution, with a small number of outliers to the right.  The fact that they match is a good sign.  Interestingly, both \"Sedentary Minutes\" and \"Calories\" show a somewhat similar bimodal distribution, with Sedentary Minutes showing peaks at ~750 and ~1200, with a significant trough between ~800-1000.  \"Calories\" has a peak frequency of ~2000, a smaller peak at ~2800, and a trough around ~2500.  The range of calories burned is mostly reasonable, though it looks to be pretty generous to their users with a significant percentage of the population showing 2500+ calories burned in a day, which happens but is not especially common for people registering so many sedentary minutes.  "
   ]
  },
  {
   "cell_type": "markdown",
   "id": "07245141",
   "metadata": {},
   "source": [
    "Let's examine a few other explorations: "
   ]
  },
  {
   "cell_type": "code",
   "execution_count": null,
   "id": "67f7d082",
   "metadata": {
    "lines_to_next_cell": 0,
    "name": "Various explorations on cleaned_daily_activity"
   },
   "outputs": [],
   "source": [
    "library(ggplot2)\n",
    "library(dplyr)\n",
    "\n",
    "# Correlation between TotalSteps, TotalDistance, and Calories\n",
    "correlation_matrix <- cleaned_daily_activity %>% \n",
    "  select(TotalSteps, TotalDistance, Calories) %>% \n",
    "  cor(use = \"complete.obs\")\n",
    "print(correlation_matrix)\n",
    "\n",
    "# Average activity by user\n",
    "avg_activity_by_user <- cleaned_daily_activity %>%\n",
    "  group_by(Id) %>%\n",
    "  summarise(\n",
    "    AvgSteps = mean(TotalSteps, na.rm = TRUE),\n",
    "    AvgActiveMinutes = mean(VeryActiveMinutes + FairlyActiveMinutes + LightlyActiveMinutes, na.rm = TRUE),\n",
    "    AvgCalories = mean(Calories, na.rm = TRUE)\n",
    "  )\n",
    "print(avg_activity_by_user)\n",
    "\n",
    "# Time series of activity\n",
    "cleaned_daily_activity %>% \n",
    "  group_by(Date) %>%\n",
    "  summarise(SumSteps = sum(TotalSteps)) %>%\n",
    "  ggplot(aes(x = Date, y = SumSteps)) +\n",
    "  geom_line() +\n",
    "  labs(title = \"Daily Total Steps Over Time\", x = \"Date\", y = \"Total Steps\")\n",
    "\n",
    "# Boxplot of Total Steps by WeekDay\n",
    "ggplot(cleaned_daily_activity, aes(x = WeekDay, y = TotalSteps)) +\n",
    "  geom_boxplot() +\n",
    "  labs(title = \"Total Steps by Day of the Week\", x = \"Day of the Week\", y = \"Total Steps\")\n"
   ]
  },
  {
   "cell_type": "markdown",
   "id": "f3591cae",
   "metadata": {},
   "source": [
    "**Correlation**\n",
    "\n",
    "When it comes to TotalSteps, TotalDistance, and Calories, we see an extremely strong correlation between steps and distance (not surprising), and only a moderate correlation between steps and calories and distance and calories, which is also not surprising given that most of our calorie expenditure is from our baseline metabolism and only affected somewhat by our activity.\n",
    "\n",
    "**Steps over time**\n",
    "\n",
    "There isn't a clear trend of steps over time, except for a steep dropoff in steps that last couple days of this time period.  I'll look at that more carefully to see if it needs to be removed, or if it might signify something else. \n",
    "\n",
    "**Steps by day of the week**\n",
    "We see a similar trend to the hourly data in that Saturdays, Mondays, and Tuesdays show the most steps per day, and Sunday shows the least, but it adds more complexity to it.  Thursday actually looks more active (in terms of avg number of steps) than Monday when you look at the median and the max but has the lowest 1st quartile after Sunday.  Saturday shows a higher max and 3rd quartile than every other day of the week, but its median is actually lower than any day but Sunday.  This suggests we have more variation between people in terms of when they have the most activity.\n",
    "\n",
    "Let's examine the number of steps on different days of the period to see if the last couple days are an outlier that should be removed, and then we'll see if we can identify clusters of user types."
   ]
  },
  {
   "cell_type": "code",
   "execution_count": null,
   "id": "50a43c37",
   "metadata": {
    "name": "Examining Total Steps by Date"
   },
   "outputs": [],
   "source": [
    "library(dplyr)\n",
    "\n",
    "\n",
    "# Summarize total steps by date\n",
    "steps_by_date <- cleaned_daily_activity %>%\n",
    "  group_by(Date) %>%\n",
    "  summarise(TotalStepsByDay = sum(TotalSteps, na.rm = TRUE)) %>%\n",
    "  arrange(Date)  # Optional: Arrange by date for chronological order\n",
    "\n",
    "# Display the summarized data\n",
    "print(steps_by_date)\n"
   ]
  },
  {
   "cell_type": "markdown",
   "id": "5cec1c97",
   "metadata": {},
   "source": [
    "For whatever reason, there is a massive drop in the last day of the sample period down to a third of the long-run median.  That was a Thursday and a Mother's Day, so I'm not sure if that had any effect, or related at all to it being the last day of the period under observation.  It's a significant enough outlier to warrant removing it from the sample."
   ]
  },
  {
   "cell_type": "code",
   "execution_count": null,
   "id": "f8e88201",
   "metadata": {
    "name": "Removing Last Day of Sample Period as Outlier"
   },
   "outputs": [],
   "source": [
    "\n",
    "cleaned_daily_activity <- cleaned_daily_activity %>%\n",
    "  filter(Date != \"2016-05-12\")\n"
   ]
  },
  {
   "cell_type": "markdown",
   "id": "dc3f90ac",
   "metadata": {},
   "source": [
    "**Identifying User Clusters**\n",
    "\n",
    "Now let's see if we can find user clusters based on aggregated data for each user.  First, we'll aggregate the data by user, scale it, and then use the elbow method to determine how many clusters I should look for."
   ]
  },
  {
   "cell_type": "code",
   "execution_count": null,
   "id": "7881249c",
   "metadata": {
    "lines_to_next_cell": 0
   },
   "outputs": [],
   "source": [
    "library(dplyr)\n",
    "library(cluster)\n",
    "library(purrr) \n",
    "\n",
    "# Aggregate data by user\n",
    "user_activity_profile <- cleaned_daily_activity %>%\n",
    "  group_by(Id) %>%\n",
    "  summarise(\n",
    "    AvgTotalSteps = mean(TotalSteps, na.rm = TRUE),\n",
    "    AvgTotalDistance = mean(TotalDistance, na.rm = TRUE),\n",
    "    AvgVeryActiveMinutes = mean(VeryActiveMinutes, na.rm = TRUE),\n",
    "    AvgCalories = mean(Calories, na.rm = TRUE)\n",
    "    # Add more features as needed\n",
    "  )\n",
    "\n",
    "# Scale the data\n",
    "scaled_data <- scale(user_activity_profile[, -1])  # Excluding the Id column\n",
    "\n",
    "# Calculate WSS for a range of number of clusters\n",
    "set.seed(13)  # Ensure reproducibility\n",
    "wss <- map_dbl(1:10, function(k) {\n",
    "  kmeans(scaled_data, centers = k, nstart = 25)$tot.withinss\n",
    "})\n",
    "\n",
    "# Plot the elbow plot\n",
    "elbow_plot <- tibble(Clusters = 1:10, WSS = wss) %>%\n",
    "  ggplot(aes(x = Clusters, y = WSS)) +\n",
    "  geom_line() + geom_point() +\n",
    "  scale_x_continuous(breaks = 1:10) +\n",
    "  labs(title = \"Elbow Method for Choosing Optimal k\",\n",
    "       x = \"Number of Clusters\", y = \"Total Within-Cluster Sum of Squares\") +\n",
    "  theme_minimal()\n",
    "\n",
    "print(elbow_plot)\n"
   ]
  },
  {
   "cell_type": "markdown",
   "id": "467df30c",
   "metadata": {},
   "source": [
    "The elbow plot does not show a clear \"elbow,\" or point of inflection, suggesting that there isn't an obvious cutoff where adding more clusters stops giving significantly better modeling of the data. This can happen for a few reasons:\n",
    "\n",
    "Data Homogeneity: The data points might not be clearly segmented into distinct groups, possibly indicating that the dataset has a relatively uniform distribution without distinct subgroups.\n",
    "\n",
    "Complex Cluster Shapes: K-means assumes that clusters are spherical and evenly sized, which might not be the case in the data. There could be clusters with non-spherical shapes or clusters that have very different sizes.\n",
    "\n",
    "Overlapping Clusters: There may be some degree of overlap between the clusters, making it difficult to partition the data into well-separated groups.\n",
    "\n",
    "High-Dimensional Space: If the data has many dimensions (features), the distance metrics used by K-means may become less meaningful (this is known as the \"curse of dimensionality\"), and the clusters may not be well-defined.\n",
    "\n",
    "Let's first see if we can get additional information through a Silhouette plot; after that, we could try hierarchical clustering, and then apply PCA.  "
   ]
  },
  {
   "cell_type": "code",
   "execution_count": null,
   "id": "4e4643ad",
   "metadata": {
    "lines_to_next_cell": 0,
    "name": "Silhouette plot"
   },
   "outputs": [],
   "source": [
    "library(cluster)\n",
    "library(factoextra)  # For visualization of silhouette plots\n",
    "\n",
    "# Compute silhouette scores for multiple values of k\n",
    "sil_width <- list()\n",
    "for (k in 2:5) {\n",
    "  km <- kmeans(scaled_data, centers = k, nstart = 25)\n",
    "  sil <- silhouette(km$cluster, dist(scaled_data))\n",
    "  sil_width[[paste(\"k=\", k, sep=\"\")]] <- mean(sil[, \"sil_width\"])\n",
    "}\n",
    "\n",
    "# Plot silhouette scores for different numbers of clusters\n",
    "sil_plot <- tibble(\n",
    "  k = 2:5,\n",
    "  silhouette_width = unlist(sil_width)\n",
    ")\n",
    "\n",
    "ggplot(sil_plot, aes(x = k, y = silhouette_width)) +\n",
    "  geom_line() + geom_point() +\n",
    "  labs(title = \"Silhouette Analysis for Optimal Number of Clusters\",\n",
    "       x = \"Number of Clusters\",\n",
    "       y = \"Average Silhouette Width\") +\n",
    "  theme_minimal()\n",
    "\n",
    "# Print the silhouette plot\n",
    "print(sil_plot)\n",
    "\n",
    "# FViz Silhouette\n",
    "k <- 3  # Example: testing k = 3\n",
    "km <- kmeans(scaled_data, centers = k, nstart = 25)\n",
    "sil <- silhouette(km$cluster, dist(scaled_data))\n",
    "\n",
    "# Visualize silhouette plot\n",
    "fviz_silhouette(sil) + labs(title = paste(\"Silhouette Plot for k =\", k))\n"
   ]
  },
  {
   "cell_type": "markdown",
   "id": "e2e4f115",
   "metadata": {},
   "source": [
    "**Silhouette Plot:** \n",
    "\n",
    "This plot shows individual silhouette widths for each point within the clusters. A silhouette width close to +1 indicates that the sample is far away from the neighboring clusters. A value of 0 indicates that the sample is on or very close to the decision boundary between two neighboring clusters. Negative values indicate that those samples might have been assigned to the wrong cluster.\n",
    "\n",
    "For these data, the silhouette plot suggests that not all points are perfectly clustered, as there are bars below the average silhouette width (indicated by the red dashed line).\n",
    "The width for clusters 2 and 3 (green and blue bars) are generally higher than those for cluster 1 (red bars), suggesting that clusters 2 and 3 are more compact and better separated from each other than cluster 1 is from them.\n",
    "\n",
    "**Average Silhouette Width Plot:** \n",
    "\n",
    "This plot presents the average silhouette width for different numbers of clusters. A higher average silhouette width indicates better cluster structure.\n",
    "\n",
    "The plot seems to show an increase in average silhouette width from 2 to 3 clusters and then a decrease as the number of clusters increases to 4 and 5.\n",
    "The peak at 3 clusters suggests that it might be the optimal number of clusters for this dataset, given that the average silhouette width is highest at this point. However, the average silhouette width for 3 clusters is not dramatically higher than for 2 or 4, indicating that the clusters might not be very well-defined or that there is some overlap between them.\n",
    "\n",
    "**Interpretation:**\n",
    "\n",
    "The absence of a clear \"elbow\" in the WSS plot and the moderate silhouette scores together suggest that while there may be some natural grouping in the data, it is not highly distinct.\n",
    "The clusters formed may not be very dense, or there may not be significant separation between them. This could be due to the inherent overlap in user behaviors or the chosen features not capturing clear distinctions between different user profiles.\n",
    "\n",
    "**Recommendation:**\n",
    "\n",
    "It looks from this analysis that just 2 clusters are probably the best division, suggesting that there may be one clearish cluster and everything else is lumped together, but none of the numbers are close to what we would expect with clear clusters.  Let's see what we can find with hierarchical clustering, and then attempt PCA followed by a clustering analysis.\n",
    "\n",
    "**Hierarchical Clustering**"
   ]
  },
  {
   "cell_type": "code",
   "execution_count": null,
   "id": "5a35174f",
   "metadata": {
    "lines_to_next_cell": 0,
    "name": "Hierarchical clustering"
   },
   "outputs": [],
   "source": [
    "# Using the previously defined 'scaled_data' dataset\n",
    "library(stats)\n",
    "\n",
    "# Compute the distance matrix\n",
    "d <- dist(scaled_data)\n",
    "\n",
    "# Perform hierarchical clustering using the Ward method\n",
    "hc <- hclust(d, method = \"ward.D2\")\n",
    "\n",
    "# Plot the dendrogram\n",
    "plot(hc, labels = FALSE, hang = -1)  # 'labels=FALSE' to avoid clutter if there are many data points\n"
   ]
  },
  {
   "cell_type": "markdown",
   "id": "c36699c5",
   "metadata": {},
   "source": [
    "To me it looks like we get the biggest jumps around height 5, which gives us three clusters.  Let's cut the tree here, divide the users into the different clusters, and examine their statistics."
   ]
  },
  {
   "cell_type": "code",
   "execution_count": null,
   "id": "371a9368",
   "metadata": {
    "lines_to_next_cell": 0,
    "name": "Examining 3 clusters from hierarchical clustering"
   },
   "outputs": [],
   "source": [
    "\n",
    "# Step 1: Cut the dendrogram at height 5 to get cluster assignments\n",
    "cluster_assignments <- cutree(hc, h = 5)\n",
    "\n",
    "# Step 2: Join cluster assignments with aggregated user profile data\n",
    "user_activity_profile$Cluster <- cluster_assignments\n",
    "\n",
    "# Step 3: Join clusters with original data by mapping each 'Id' to its cluster\n",
    "cleaned_daily_activity <- cleaned_daily_activity %>%\n",
    "  left_join(user_activity_profile[c(\"Id\", \"Cluster\")], by = \"Id\")\n",
    "\n",
    "# Step 4: Calculate summary statistics for the original data, grouped by cluster\n",
    "cluster_summary <- cleaned_daily_activity %>%\n",
    "  group_by(Cluster) %>%\n",
    "  summarise(across(c(TotalSteps, TotalDistance, VeryActiveMinutes, Calories, SedentaryMinutes, LightlyActiveMinutes), mean, na.rm = TRUE))\n",
    "\n",
    "# View the summary statistics for each cluster\n",
    "print(cluster_summary)"
   ]
  },
  {
   "cell_type": "code",
   "execution_count": null,
   "id": "f2f9b883",
   "metadata": {
    "name": "Count Cluster Size"
   },
   "outputs": [],
   "source": [
    "# Count unique Ids in each cluster\n",
    "library(dplyr)\n",
    "\n",
    "cluster_counts <- cleaned_daily_activity %>%\n",
    "  group_by(Cluster) %>%\n",
    "  summarise(UniqueIds = n_distinct(Id))\n",
    "\n",
    "print(cluster_counts)"
   ]
  },
  {
   "cell_type": "markdown",
   "id": "01f55a28",
   "metadata": {},
   "source": [
    "Here, it looks like we do have three quite distinct clusters, particularly in regards to TotalSteps, TotalDistance, VeryActiveMinutes, and Calories.  \n",
    "\n",
    "Cluster 3 looks like our most active group, with 2.8x more avg daily steps than our least active group and 35% more steps than our moderately active group, with a similar amount of difference in TotalDistance. There is less variation, but still significant, in the area of Calories, which is not surprising given the substantial role of base-rate metabolic expenditure. Cluster 3 has ~70% more average daily calorie expenditure than Cluster 2, and 44% more than Cluster 1.  The difference is even greater in the VeryActive Minutes category, with Cluster 3 having ~15x more VeryActiveMinutes per day than Cluster 2, and 4x more than Cluster 1.  There is less variation seen between the groups in the other variables examined here, with the note that Cluster 2 has significantly more sedentary minutes than the other two groups, and Cluster 1, despite having significantly less VeryActiveMinutes compared to Cluster 3, actually has a significantly higher average daily LightlyActiveMinutes.\n",
    "\n",
    "**3 User Types**\n",
    "Let's make some describe our 3 User Types identified by the hierarchical clustering we've done and the analysis we've performed so far.\n",
    "\n",
    "*Cluster 3: \"The Power Movers\"* (4 out of 33 users)- This group is characterized by high levels of activity. They take significantly more steps, burn more calories and have a much higher active engagement, indicating a potentially sporty or fitness-focused lifestyle.  These are rare, representing only ~12% of our dataset.\n",
    "\n",
    "*Cluster 2: \"The Casual Navigators\"* (10 out of 33 users) - With the most sedentary minutes and by far the least very active minutes, this group might represent everyday individuals who demonstrate a very low level of intense activity, possibly due to work or lifestyle constraints that involve periods of inactivity.\n",
    "\n",
    "*Cluster 1: \"The Consistent Pacers\"* (19 out of 33 users- Although they have fewer very active minutes, their higher lightly active minutes suggest they maintain a steady pace throughout the day. This could be indicative of users who engage in regular, moderate-intensity activities, possibly integrating more low-impact exercises or frequent breaks from sedentary behavior into their routine.  These are your average people, representing over 57% of the dataset.\n",
    "\n",
    "Let's examine these three groups more closely to learn more about them."
   ]
  },
  {
   "cell_type": "code",
   "execution_count": null,
   "id": "f83b97bd",
   "metadata": {
    "lines_to_next_cell": 0,
    "name": "Cluster Activity by Weekday"
   },
   "outputs": [],
   "source": [
    "library(ggplot2)\n",
    "library(dplyr)\n",
    "\n",
    "# First, calculate the average number of TotalSteps for each combination of WeekDay and Cluster\n",
    "avg_steps_per_weekday <- cleaned_daily_activity %>%\n",
    "  group_by(WeekDay, Cluster) %>%\n",
    "  summarise(AvgTotalSteps = mean(TotalSteps, na.rm = TRUE)) %>%\n",
    "  ungroup() %>%\n",
    "  mutate(WeekDay = factor(WeekDay, levels = c(\"Sunday\", \"Monday\", \"Tuesday\", \"Wednesday\", \"Thursday\", \"Friday\", \"Saturday\")))\n",
    "\n",
    "# View the table\n",
    "print(avg_steps_per_weekday)\n",
    "\n",
    "# Now, plot the data\n",
    "ggplot(avg_steps_per_weekday, aes(x = WeekDay, y = AvgTotalSteps, fill = as.factor(Cluster))) +\n",
    "  geom_bar(stat = \"identity\", position = position_dodge()) +\n",
    "  labs(title = \"Average Total Steps per Day of the Week by Cluster\",\n",
    "       x = \"Day of the Week\",\n",
    "       y = \"Average Total Steps\",\n",
    "       fill = \"Cluster\") +\n",
    "  theme_minimal() +\n",
    "  theme(axis.text.x = element_text(angle = 45, hjust = 1))\n"
   ]
  },
  {
   "cell_type": "markdown",
   "id": "f6579e2f",
   "metadata": {},
   "source": [
    "Cluster 3, the Power Movers, shows significant variation (in Average Total Daily Steps) throughout the week, with Thursday and Saturday being their most active days and Monday being their least active.\n",
    "\n",
    "Cluster 2, our casual, most sedentary group shows less variation throughout the week, with Sunday and Monday being marginally more active (in terms of number of steps), and Friday being significantly lower.  Perhaps this group starts out the week with the most energy, but gradually loses steam over the week and is tired by Friday.\n",
    "\n",
    "Cluster 1, the Consistent Pacers, have Tuesday as their most active day (by number of steps), which is interesting because it goes against our overall pattern for the whole dataset, and corresponds to a lull for our other two groups.  After that, Monday, Thursday, and Saturday all show a similar relatively high number of steps, and Sunday is the most relaxed day.\n",
    "\n",
    "Let's see if we can apply these clusters to our hourly dataset, and see if there is significant differences between when they have most of their activity."
   ]
  },
  {
   "cell_type": "code",
   "execution_count": null,
   "id": "2770bd9b",
   "metadata": {
    "lines_to_next_cell": 0,
    "name": "Examine hourly data by cluster"
   },
   "outputs": [],
   "source": [
    "# Create a mapping of Id to Cluster\n",
    "cluster_mapping <- cleaned_daily_activity %>%\n",
    "  select(Id, Cluster) %>%\n",
    "  distinct()\n",
    "\n",
    "# Merge this cluster information into hourly_data\n",
    "hourly_data_clustered <- hourly_data %>%\n",
    "  left_join(cluster_mapping, by = \"Id\")"
   ]
  },
  {
   "cell_type": "code",
   "execution_count": null,
   "id": "8b283a70",
   "metadata": {
    "name": "Summarizing and visualizing hourly cluster data"
   },
   "outputs": [],
   "source": [
    "# Group by Cluster, Hour, and WeekDay, then summarize\n",
    "hourly_activity_summary <- hourly_data_clustered %>%\n",
    "  group_by(Cluster, Hour, WeekDay) %>%\n",
    "  summarise(\n",
    "    AvgCalories = mean(Calories, na.rm = TRUE),\n",
    "    AvgStepTotal = mean(StepTotal, na.rm = TRUE),\n",
    "    AvgTotalIntensity = mean(TotalIntensity, na.rm = TRUE)\n",
    "  ) %>%\n",
    "  ungroup()\n",
    "\n",
    "# View the summarized data\n",
    "print(hourly_activity_summary)\n",
    "\n",
    "ggplot(hourly_activity_summary, aes(x = Hour, y = AvgCalories, color = as.factor(Cluster), group = Cluster)) +\n",
    "  geom_line() +\n",
    "  facet_wrap(~WeekDay) +\n",
    "  labs(title = \"Average Calories Burned by Hour Across Clusters\",\n",
    "       x = \"Hour of the Day\",\n",
    "       y = \"Average Calories\",\n",
    "       color = \"Cluster\") +\n",
    "  theme_minimal()"
   ]
  },
  {
   "cell_type": "markdown",
   "id": "029d4fb7",
   "metadata": {},
   "source": [
    "Here we have graphs of the average calories burned, per hour of the day, per day of the week, per cluster.  \n",
    "\n",
    "Overall Trends:\n",
    "\n",
    "There are noticeable peaks and troughs in calorie burn for all clusters throughout the day, which likely correspond to times of increased and decreased physical activity.\n",
    "\n",
    "Cluster 1 (Red):\n",
    "\n",
    "This cluster generally shows a moderate level of calorie burn throughout the day with less fluctuation compared to the other two clusters.\n",
    "There's a consistent peak around midday or early afternoon across most days, possibly indicating a time of regular exercise or activity.\n",
    "\n",
    "Cluster 3 (Blue):\n",
    "\n",
    "This cluster exhibits a higher calorie burn than Cluster 1, especially in the early morning and late evening, indicating early morning and late evening activities or workouts.\n",
    "The pattern is fairly consistent across all days, suggesting a routine that doesn't change much on weekends.\n",
    "\n",
    "Cluster 2 (Green):\n",
    "\n",
    "This cluster has a very distinct pattern with sharp peaks indicating intense periods of activity followed by periods of low calorie burn.\n",
    "There are significant peaks in the evening, especially on weekdays, which could indicate after-work exercise routines.\n",
    "The weekend pattern for this cluster is quite different, with a high peak on Saturday afternoon and a much flatter profile on Sunday, suggesting a rest day or less structured activity.\n",
    "\n",
    "Let's examine these a little more closely:\n",
    "\n",
    "**Cluster 1: Consistent Pacers**"
   ]
  },
  {
   "cell_type": "code",
   "execution_count": null,
   "id": "1ddbefb4",
   "metadata": {
    "lines_to_next_cell": 0,
    "name": "Cluster 1: Consistent Pacers"
   },
   "outputs": [],
   "source": [
    "library(tidyr)\n",
    "library(ggplot2)\n",
    "library(dplyr)\n",
    "\n",
    "# Group by Cluster, Hour, and WeekDay, then summarize\n",
    "hourly_activity_summary <- hourly_data_clustered %>%\n",
    "  group_by(Cluster, Hour, WeekDay) %>%\n",
    "  summarise(\n",
    "    AvgCalories = mean(Calories, na.rm = TRUE),\n",
    "    AvgStepTotal = mean(StepTotal, na.rm = TRUE),\n",
    "    AvgTotalIntensity = mean(TotalIntensity, na.rm = TRUE)\n",
    "  ) %>%\n",
    "  ungroup()\n",
    "\n",
    "# Filter the summarized data for Cluster 1\n",
    "cluster_1_activity_summary <- hourly_activity_summary %>%\n",
    "  filter(Cluster == 1)\n",
    "\n",
    "# Reshape the data to long format\n",
    "cluster_1_activity_long <- cluster_1_activity_summary %>%\n",
    "  pivot_longer(\n",
    "    cols = c(\"AvgCalories\", \"AvgTotalIntensity\"),\n",
    "    names_to = \"Variable\",\n",
    "    values_to = \"Value\"\n",
    "  )\n",
    "\n",
    "# Plot all three variables on the same graph\n",
    "ggplot(cluster_1_activity_long, aes(x = Hour, y = Value, color = Variable, group = Variable)) +\n",
    "  geom_line() +\n",
    "  facet_wrap(~WeekDay) +\n",
    "  labs(title = \"Average Metrics by Hour for Cluster 1\",\n",
    "       x = \"Hour of the Day\",\n",
    "       y = \"Average Value\",\n",
    "       color = \"Metric\") +\n",
    "  theme_minimal()\n"
   ]
  },
  {
   "cell_type": "markdown",
   "id": "2b9db911",
   "metadata": {},
   "source": [
    "The Consistent Pacers (are largest and moderately active group), show the above patterns of activity throughout the day and week.  Here are some observations:\n",
    "\n",
    "Morning Hours:\n",
    "\n",
    "For both AvgCalories and AvgTotalIntensity, there is a gradual increase starting from the early hours, around 5-6 AM, which suggests some individuals begin their activities early in the day.\n",
    "\n",
    "Midday Peaks:\n",
    "\n",
    "The peak in AvgCalories occurs around 12 PM to 2 PM across most weekdays. This is the most prominent peak, suggesting a significant increase in physical activity, which could be associated with a lunchtime workout routine.\n",
    "On Saturdays, this peak starts a bit earlier, around 11 AM, indicating a change in schedule for the weekend.\n",
    "\n",
    "Afternoon and Evening Hours:\n",
    "\n",
    "After the midday peak, there is a gradual decline in AvgCalories which flattens out towards the evening, around 5 PM to 7 PM, before dropping more significantly.\n",
    "AvgTotalIntensity remains relatively flat throughout the day, with only a slight increase that coincides with the calorie burn peak, and it generally stays consistent into the evening hours.\n",
    "\n",
    "Troughs:\n",
    "\n",
    "The lowest points for both metrics occur in the very early morning, roughly from midnight to 5 AM, which is expected as this is typically a resting period for most people.\n",
    "Evening Activity:\n",
    "\n",
    "There is a minor secondary peak or plateau for AvgCalories in the evening, around 6 PM to 8 PM, noticeable on some weekdays. This could indicate another common time for exercise or activity after work.\n",
    "\n",
    "Weekend Variations:\n",
    "\n",
    "On Sundays, the curve for AvgCalories is flatter with a less pronounced peak, suggesting less activity. This could be interpreted as a rest day for many in the cluster.\n",
    "\n",
    "**Cluster 2: The Low and Slows**"
   ]
  },
  {
   "cell_type": "code",
   "execution_count": null,
   "id": "021ef3a4",
   "metadata": {
    "lines_to_next_cell": 0,
    "name": "Cluster 2: The Low and Slows"
   },
   "outputs": [],
   "source": [
    "library(tidyr)\n",
    "library(ggplot2)\n",
    "library(dplyr)\n",
    "\n",
    "# Group by Cluster, Hour, and WeekDay, then summarize\n",
    "hourly_activity_summary <- hourly_data_clustered %>%\n",
    "  group_by(Cluster, Hour, WeekDay) %>%\n",
    "  summarise(\n",
    "    AvgCalories = mean(Calories, na.rm = TRUE),\n",
    "    AvgStepTotal = mean(StepTotal, na.rm = TRUE),\n",
    "    AvgTotalIntensity = mean(TotalIntensity, na.rm = TRUE)\n",
    "  ) %>%\n",
    "  ungroup()\n",
    "\n",
    "# Filter the summarized data for Cluster 1\n",
    "cluster_2_activity_summary <- hourly_activity_summary %>%\n",
    "  filter(Cluster == 2)\n",
    "\n",
    "# Reshape the data to long format\n",
    "cluster_2_activity_long <- cluster_2_activity_summary %>%\n",
    "  pivot_longer(\n",
    "    cols = c(\"AvgCalories\", \"AvgTotalIntensity\"),\n",
    "    names_to = \"Variable\",\n",
    "    values_to = \"Value\"\n",
    "  )\n",
    "\n",
    "# Plot all three variables on the same graph\n",
    "ggplot(cluster_2_activity_long, aes(x = Hour, y = Value, color = Variable, group = Variable)) +\n",
    "  geom_line() +\n",
    "  facet_wrap(~WeekDay) +\n",
    "  labs(title = \"Average Metrics by Hour for Cluster 2\",\n",
    "       x = \"Hour of the Day\",\n",
    "       y = \"Average Value\",\n",
    "       color = \"Metric\") +\n",
    "  theme_minimal()\n"
   ]
  },
  {
   "cell_type": "markdown",
   "id": "ee55832a",
   "metadata": {},
   "source": [
    "Here we see hourly and daily average calorie expenditures and total intensity for Cluster 2: The Casual Navigators or the Low and Slows, our least active group.  \n",
    "\n",
    "Morning Activity:\n",
    "\n",
    "Both AvgCalories and AvgTotalIntensity start to rise from the lowest point at the beginning of the graph, which represents 0 hours (midnight), with activity beginning to pick up around 5 AM.\n",
    "Midday Peaks:\n",
    "\n",
    "The peak for AvgCalories seems to occur a bit later in the day compared to Cluster 1, roughly around 1 PM to 3 PM, suggesting that the main period of activity for Cluster 2 might be in the early to mid-afternoon.\n",
    "Afternoon Consistency:\n",
    "\n",
    "Following the peak, there is a gradual decrease in AvgCalories, but the level remains elevated compared to the morning hours, indicating sustained activity throughout the afternoon.\n",
    "Evening Activity:\n",
    "\n",
    "There is a less noticeable decline in the evening for AvgCalories, suggesting that Cluster 2 may have a more extended period of activity that lasts into the evening, although not as intense as the midday peak.\n",
    "Intensity Trends:\n",
    "\n",
    "The AvgTotalIntensity for Cluster 2 is quite flat throughout the day, with only slight fluctuations. This suggests that the intensity of their activities does not vary as much as the calorie expenditure does.\n",
    "Late Evening:\n",
    "\n",
    "Activity for both AvgCalories and AvgTotalIntensity starts to taper off after 8 PM, heading towards the minimal values by midnight.\n",
    "Weekend Patterns:\n",
    "\n",
    "On Saturday, the activity starts to increase a bit earlier, around 6 AM, with a smoother curve throughout the day. The midday peak is less pronounced compared to weekdays.\n",
    "Sunday shows a similar trend to Saturday but with even less variation in calorie burn and intensity throughout the day, suggesting a relaxed activity pattern.\n",
    "\n",
    "Comparative Weekday vs. Weekend:\n",
    "\n",
    "There are noticeable differences between weekday and weekend activity levels. The weekend days show a more leveled pattern with less distinction between peak and non-peak hours, which might reflect a more relaxed pace or varied activities.\n",
    "\n",
    "These observations suggest that individuals in Cluster 2 have a distinct pattern of activity with a later peak in calorie burn and a relatively consistent intensity of activity throughout the day. The weekends show a tendency for activities to start earlier and spread more evenly across the day compared to weekdays."
   ]
  },
  {
   "cell_type": "markdown",
   "id": "149ba49a",
   "metadata": {},
   "source": [
    "**Cluster 3: The Power Movers**"
   ]
  },
  {
   "cell_type": "code",
   "execution_count": null,
   "id": "9f8065be",
   "metadata": {
    "name": "Cluster 3: The Power Movers"
   },
   "outputs": [],
   "source": [
    "library(tidyr)\n",
    "library(ggplot2)\n",
    "library(dplyr)\n",
    "\n",
    "# Group by Cluster, Hour, and WeekDay, then summarize\n",
    "hourly_activity_summary <- hourly_data_clustered %>%\n",
    "  group_by(Cluster, Hour, WeekDay) %>%\n",
    "  summarise(\n",
    "    AvgCalories = mean(Calories, na.rm = TRUE),\n",
    "    AvgStepTotal = mean(StepTotal, na.rm = TRUE),\n",
    "    AvgTotalIntensity = mean(TotalIntensity, na.rm = TRUE)\n",
    "  ) %>%\n",
    "  ungroup()\n",
    "\n",
    "# Filter the summarized data for Cluster 1\n",
    "cluster_3_activity_summary <- hourly_activity_summary %>%\n",
    "  filter(Cluster == 3)\n",
    "\n",
    "# Reshape the data to long format\n",
    "cluster_3_activity_long <- cluster_3_activity_summary %>%\n",
    "  pivot_longer(\n",
    "    cols = c(\"AvgCalories\", \"AvgTotalIntensity\"),\n",
    "    names_to = \"Variable\",\n",
    "    values_to = \"Value\"\n",
    "  )\n",
    "\n",
    "# Plot all three variables on the same graph\n",
    "ggplot(cluster_3_activity_long, aes(x = Hour, y = Value, color = Variable, group = Variable)) +\n",
    "  geom_line() +\n",
    "  facet_wrap(~WeekDay) +\n",
    "  labs(title = \"Average Metrics by Hour for Cluster 3\",\n",
    "       x = \"Hour of the Day\",\n",
    "       y = \"Average Value\",\n",
    "       color = \"Metric\") +\n",
    "  theme_minimal()\n"
   ]
  },
  {
   "cell_type": "markdown",
   "id": "a08a578b",
   "metadata": {},
   "source": [
    "Here we have the hourly and daily graphs of AvgCalories and AvgTotalIntensity for Cluster 3: The Power Movers.  Keep in mind, this only represents 4 users out of the 33 in our sample.\n",
    "\n",
    "During the weekdays, we see a significant spike in activity starting around 5am (with the most significant spikes being on Monday and Tuesday, which might represent some pre-work exercise in the earlier days of the week), with additional peaks around midday (noonish), and usually a spike in the evening as well (roughly 6-7pm), with usually a significant dropoff around 8pm.  Interestingly, Mondays and Tuesdays seem to be dominated by the morning activity, with a lower peak in the evening, whereas Wednesday, Thursday, Friday show less morning activity but significantly more in the evenings after work, with the Wednesday evening workout being especially prolonged.\n",
    "\n",
    "Saturday shows a much slower and more gradual start in the morning, but a significant activity peak around 1pm, then a trough around 4pm and a lesser peak around 7pm.  Sunday looks like a rest day, with a similar pattern to Saturday except with no activity peak around midday, instead showing the day's peak around 5pm.\n",
    "\n",
    "This concludes are general observations about our different clusters. I'll recap their traits and associated recommendations at the end.\n",
    "\n",
    "Now, let's move on the examining our last dataset, Activity Plus Sleep.\n",
    "\n",
    "### Activity Plus Sleep\n",
    "\n",
    "Recall that this dataset is a merge of the original daily_activity dataset along with the sleep dataset for the 'Id's that were common between them.  We have a reduced number of users in this sample, with only 24 users instead of our 33."
   ]
  },
  {
   "cell_type": "code",
   "execution_count": null,
   "id": "d7aead80",
   "metadata": {},
   "outputs": [],
   "source": [
    "# Find the number of unique Ids in the 'Id' column using base R\n",
    "number_of_unique_ids <- length(unique(activity_plus_sleep$Id))\n",
    "\n",
    "# Print the result\n",
    "print(number_of_unique_ids)\n",
    "\n",
    "# Look at dataset head\n",
    "head(activity_plus_sleep)"
   ]
  },
  {
   "cell_type": "markdown",
   "id": "ae8a6ed2",
   "metadata": {},
   "source": [
    "Here we still have TrackerDistance, which in a previous dataset we determined was so correlated with TotalDistance that it was redundant  Let's first look at how correlated TotalMinutesAsleep and TotalTimeInBed are to see if they are distinct or if we can elminate one.\n"
   ]
  },
  {
   "cell_type": "code",
   "execution_count": null,
   "id": "b7ed064a",
   "metadata": {
    "name": "TotalMinutesAsleep vs TotalTimeInBed"
   },
   "outputs": [],
   "source": [
    "#Examine Correlations\n",
    "correlation_matrix <- cor(activity_plus_sleep[,c('TotalMinutesAsleep', 'TotalTimeInBed')], use = \"complete.obs\")\n",
    "\n",
    "# Display the correlation matrix\n",
    "print(correlation_matrix)"
   ]
  },
  {
   "cell_type": "markdown",
   "id": "2d4bebc2",
   "metadata": {},
   "source": [
    "Those are so closely correlated that they are functionally tracking the same thing, so let's drop TotalTimeInBed and TrackerDistance."
   ]
  },
  {
   "cell_type": "code",
   "execution_count": null,
   "id": "b84ba0b4",
   "metadata": {
    "name": "Dropping TotalTimeInBed and TrackerDistance"
   },
   "outputs": [],
   "source": [
    "# Drop the columns from the dataset\n",
    "activity_plus_sleep <- activity_plus_sleep %>%\n",
    "  select(-TotalTimeInBed, -TrackerDistance)"
   ]
  },
  {
   "cell_type": "markdown",
   "id": "ce0c7aad",
   "metadata": {},
   "source": [
    "Now let's look to see what correlations we have between the rest of our variables:"
   ]
  },
  {
   "cell_type": "code",
   "execution_count": null,
   "id": "bc15c6ff",
   "metadata": {
    "name": "Examining correlations"
   },
   "outputs": [],
   "source": [
    "# Load the necessary libraries\n",
    "library(corrplot)\n",
    "library(dplyr)\n",
    "\n",
    "# Convert 'WeekDay' to an ordered factor\n",
    "activity_plus_sleep$WeekDay <- factor(activity_plus_sleep$WeekDay, \n",
    "                                      levels = c(\"Sunday\", \"Monday\", \"Tuesday\", \"Wednesday\", \"Thursday\", \"Friday\", \"Saturday\"),\n",
    "                                      ordered = TRUE)\n",
    "\n",
    "# Convert 'WeekDay' to a numeric scale based on its order\n",
    "activity_plus_sleep$WeekDay_numeric <- as.numeric(activity_plus_sleep$WeekDay)\n",
    "# Note, interpret correlations with caution as it's an ordinal variable\n",
    "\n",
    "# Select only numeric columns and exclude 'Id'\n",
    "numeric_data <- activity_plus_sleep %>%\n",
    "  select_if(~is.numeric(.)) %>%\n",
    "  select(-Id)\n",
    "\n",
    "# Calculate the correlation matrix for numeric columns\n",
    "cor_matrix <- cor(numeric_data, use = \"pairwise.complete.obs\")\n",
    "\n",
    "# Create the correlation heatmap with annotations\n",
    "corrplot(cor_matrix, method = \"color\", \n",
    "         tl.col = \"black\", tl.srt = 45, tl.cex = 0.5, # Adjust text color, angle, and size for variable names\n",
    "         number.cex = 0.5, # Adjust text size for correlation coefficients\n",
    "         diag = FALSE, # Remove the diagonal\n",
    "         order = \"hclust\", # Order variables based on hierarchical clustering\n",
    "         mar = c(0,0,1,1) # Increase margins (bottom, left, top, right)\n",
    ")"
   ]
  },
  {
   "cell_type": "markdown",
   "id": "1d2424d9",
   "metadata": {},
   "source": [
    "Most of the strongest correlations that we see are what we would expect, with correlations, e.g. between TotalSteps with TotalDistance and ModeratelyActiveDistance with FairlyActiveMinutes.  Interestingly, we see a strong negative correlation between SedentaryMinutes and TotalMinutesAsleep.  Let's reduce the number of variables we are looking at in order to reduce collinearity and get a better picture. \n"
   ]
  },
  {
   "cell_type": "code",
   "execution_count": null,
   "id": "7ec76ba6",
   "metadata": {
    "name": "More focused correlations"
   },
   "outputs": [],
   "source": [
    "# Load the necessary library\n",
    "library(corrplot)\n",
    "\n",
    "# Select only the variables of interest\n",
    "selected_data <- activity_plus_sleep[, c('TotalMinutesAsleep', 'LightlyActiveMinutes', \n",
    "                                         'SedentaryMinutes', 'TotalSteps', \n",
    "                                         'FairlyActiveMinutes', 'Calories', \n",
    "                                         'VeryActiveMinutes')]\n",
    "\n",
    "# Calculate the correlation matrix for the selected variables\n",
    "cor_matrix <- cor(selected_data, use = \"pairwise.complete.obs\")\n",
    "\n",
    "# Create the correlation heatmap with annotations for the selected variables\n",
    "corrplot(cor_matrix, method = \"color\", \n",
    "         type = \"upper\", \n",
    "         tl.col = \"black\", tl.srt = 45, tl.cex = 0.6, \n",
    "         addCoef.col = \"black\", \n",
    "         diag = FALSE, \n",
    "         order = \"hclust\", \n",
    "         mar = c(0,0,2,2))\n"
   ]
  },
  {
   "cell_type": "markdown",
   "id": "5444c2a3",
   "metadata": {},
   "source": [
    "We have a number of moderate to strong correlations between variables here.  The strongest are between Calories and VeryActiveMinutes (which suggests that being more active does lead to more calories burned) and TotalMinutesAsleep and Sedentary minutes, which show a strong negative correlation, suggesting that the more sleep you get the fewer sedentary minutes you have, and vice versa.  Almost as strong are TotalSteps with FairlyActiveMinutes (which is our moderately active status), TotalSteps with VeryActiveMinutes, and TotalSteps with LightlyActiveMinutes.  On the low side of moderate, Calories burned are somewhat correlated with TotalSteps.  Interestingly, Calories burned has almost no correlation with SedentaryMinutes, suggesting that more sedentary time doesn't lead necessarily to fewer calories burned (which might be because sleep, presumably, counts as sedentary time).  \n",
    "\n",
    "Let's look at some other ways of examining our sleep data; our overall statistics, variations by person, and variations by weekday:\n"
   ]
  },
  {
   "cell_type": "code",
   "execution_count": null,
   "id": "0920eb0e",
   "metadata": {
    "name": "Examining Sleep Patterns"
   },
   "outputs": [],
   "source": [
    "# 1. Examine Overall Patterns\n",
    "summary_stats <- summary(activity_plus_sleep$TotalMinutesAsleep)\n",
    "\n",
    "# View the quick summary statistics\n",
    "print(summary_stats)\n",
    "\n",
    "# 2. Examine Patterns by Person with additional summary statistics\n",
    "patterns_by_person <- activity_plus_sleep %>%\n",
    "  group_by(Id) %>%\n",
    "  summarise(\n",
    "    AverageMinutesAsleep = mean(TotalMinutesAsleep, na.rm = TRUE),\n",
    "    SDMinutesAsleep = sd(TotalMinutesAsleep, na.rm = TRUE),\n",
    "    MedianMinutesAsleep = median(TotalMinutesAsleep, na.rm = TRUE),\n",
    "    MinMinutesAsleep = min(TotalMinutesAsleep, na.rm = TRUE),\n",
    "    MaxMinutesAsleep = max(TotalMinutesAsleep, na.rm = TRUE),\n",
    "    NA_Count = sum(is.na(TotalMinutesAsleep))\n",
    "  )\n",
    "print(patterns_by_person)\n",
    "\n",
    "# Create boxplots for each person's daily sleep minutes\n",
    "ggplot(activity_plus_sleep, aes(x = as.factor(Id), y = TotalMinutesAsleep)) +\n",
    "  geom_boxplot() +\n",
    "  labs(title = \"Daily Sleep Minutes by Individual\", x = \"Individual ID\", y = \"Total Minutes Asleep\") +\n",
    "  theme(axis.text.x = element_text(angle = 90, vjust = 0.5, hjust=1))  # Rotate x-axis text if necessary\n",
    "\n",
    "# 3. Examine Variations Over Time by WeekDay with boxplots\n",
    "ggplot(activity_plus_sleep, aes(x = WeekDay, y = TotalMinutesAsleep)) +\n",
    "  geom_boxplot() +\n",
    "  labs(title = \"Total Minutes Asleep by WeekDay\", x = \"Day of the Week\", y = \"Total Minutes Asleep\")\n"
   ]
  },
  {
   "cell_type": "markdown",
   "id": "b9726c5d",
   "metadata": {},
   "source": [
    "**Overall Sleep Statistics**\n",
    "Based on these data (which, recall, is based on 24 people gathered over 1 month using a Fitness Tracker), there is a min of 58 minutes (which seems possible, but unlikely, and may be the result of a tracker error or inconsistent use during sleep), and a max of about 800 minutes (which represents over 13 hours asleep in a day, which is also possible but perhaps not likely, and may also be the result of a tracker or user error).  We see a mean and median that are quite close (suggesting not too many outliers) centered around ~420 minutes, or 7 hours of sleep, which seems normal, and we have an IQR almost exactly spreading from 6 hours to 8 hours, which seems very normal and suggests fairly accurate data.\n",
    "\n",
    "**Variations by Weekday**\n",
    "Despite the presence of outliers, we have a pretty good, clear structure of the boxplots, suggesting a pretty good snapshot of the data despite the limitations. One thing to keep in mind when interpreting these data are that hours of sleep here are divided by day, but for most people each night's hours of sleep are divided over two days, which can make it more difficult to tease patterns out. With this in mind, users in our sample clearly get the most rest on Sunday overall, showing a significant increase in sleep on this day compared to the other days of the week. \n",
    "\n",
    "*Median Sleep Duration:* The median total minutes asleep, indicated by the line within each box, does not vary greatly across the weekdays. It appears relatively consistent, suggesting that individuals tend to have a stable sleep duration throughout the week.\n",
    "\n",
    "*Interquartile Range (IQR):* The IQR, represented by the height of each box, is somewhat consistent across all days, with Wednesday showing a slightly tighter IQR, implying less variability in sleep duration on that day among the participants.\n",
    "\n",
    "*Outliers:* There are several outliers on each day, shown by the individual dots outside the \"whiskers\" of the boxplots. Some of these outliers indicate significantly less sleep, particularly on Sunday, Monday, and Saturday. Fewer instances of excessive sleep (over the upper whiskers) are seen throughout the week.\n",
    "\n",
    "*Range of Sleep Durations:* The range, indicated by the whiskers, shows that there is a wide variation in sleep duration among individuals on each day. However, the ranges are similar across the weekdays, with no day showing an extreme difference in sleep variation.\n",
    "\n",
    "*Weekend vs. Weekdays:* Saturday shows a slightly higher median and more upper outliers compared to other days, which may indicate that people tend to sleep more on Saturdays. Conversely, there are notable lower outliers on Sunday and Monday, which could reflect shorter sleep durations for some individuals at the beginning of the week.\n",
    "\n",
    "*Consistency:* Despite individual variations, the overall sleep patterns seem relatively consistent across the week, as seen by the similarity in the spread and central tendency (median) of the boxplots.\n",
    "\n",
    "**Variations by User**\n",
    "We have no nulls, but we do have two user IDs (2320127002 and 7007744171) that show a maximum sleep over the time period of just over an hour, which seems unlikely over a month without either User or FitBit error.  A third (4558609924), has sleep patterns that are almost as unlikely and very out of norm with the rest.  I'll drop those three and then examine user variation more fully.\n",
    "\n",
    "Based on the boxplot image, which displays the distribution of daily sleep minutes for individuals over a one-month period, here are some significant observations:\n",
    "\n",
    "*Variability Among Individuals:*\n",
    "\n",
    "There is considerable variability in sleep patterns among individuals. Some have a wide range of sleep minutes (indicated by the height of the box and whiskers), while others have a more consistent sleep duration.\n",
    "\n",
    "*Potential Outliers:*\n",
    "\n",
    "There are a number of potential outliers, which are represented by individual points outside the \"whiskers\" of the boxplots. These points could represent unusually short or long sleep durations compared to the individual's typical pattern, or perhaps just errors with how the FitBit recorded sleep or how the users wore them.\n",
    "\n",
    "*Median Sleep Duration:*\n",
    "\n",
    "The line inside the box (median) varies among individuals, indicating that the central tendency of sleep duration is different across the sample. Some individuals tend to sleep more, and others less, based on the median line within each box.\n",
    "\n",
    "*Interquartile Range (IQR):*\n",
    "\n",
    "The size of the boxes, which represent the interquartile range (the middle 50% of the data), varies between individuals. A larger box indicates more variability in sleep duration from night to night, whereas a smaller box indicates more consistency.\n",
    "\n",
    "*Minimum and Maximum Sleep Durations:*\n",
    "\n",
    "The \"whiskers\" of the boxplots show the range of typical sleep duration (excluding outliers), and there is a wide range among individuals. Some have a broader range of sleep minutes, indicating inconsistency in sleep duration.\n",
    "\n",
    "*Overall Sleep Duration:*\n",
    "\n",
    "Most individuals have a median sleep duration that seems to be around 300 to 400 minutes (5 to 6.7 hours), which is below the often-recommended 7-9 hours for adults. If these values are accurate and not due to data recording issues, it may suggest that a significant portion of the sample is not getting sufficient sleep.\n",
    "\n",
    "*Sleep Hygiene:*\n",
    "\n",
    "Some individuals show a very tight IQR with a consistent median, which could be indicative of good sleep hygiene and regular sleep habits. Conversely, individuals with a wide IQR might have irregular sleep patterns, which could be a point of concern or investigation.\n",
    "\n",
    "Let's filter out the outlier users and look at a linear regression examining a few variables and how sleep influences them.\n"
   ]
  },
  {
   "cell_type": "code",
   "execution_count": null,
   "id": "7a034122",
   "metadata": {
    "name": "Linear Model"
   },
   "outputs": [],
   "source": [
    "# Filter out the outlier user IDs\n",
    "filtered_data <- activity_plus_sleep %>%\n",
    "  filter(!(Id %in% c(2320127002, 7007744171, 4558609924)))\n",
    "\n",
    "# Load the dplyr package\n",
    "library(dplyr)\n",
    "\n",
    "# Assuming you have already filtered out the unwanted user IDs\n",
    "\n",
    "# Model TotalSteps as a function of TotalMinutesAsleep\n",
    "steps_model <- lm(TotalSteps ~ TotalMinutesAsleep, data = filtered_data)\n",
    "summary(steps_model)\n",
    "\n",
    "# Model Calories as a function of TotalMinutesAsleep\n",
    "calories_model <- lm(Calories ~ TotalMinutesAsleep, data = filtered_data)\n",
    "summary(calories_model)\n",
    "\n",
    "# Model SedentaryMinutes as a function of TotalMinutesAsleep\n",
    "sedentary_model <- lm(SedentaryMinutes ~ TotalMinutesAsleep, data = filtered_data)\n",
    "summary(sedentary_model)\n",
    "\n",
    "# Model VeryActiveMinutes as a function of TotalMinutesAsleep\n",
    "very_active_model <- lm(VeryActiveMinutes ~ TotalMinutesAsleep, data = filtered_data)\n",
    "summary(very_active_model)\n"
   ]
  },
  {
   "cell_type": "markdown",
   "id": "961b27c1",
   "metadata": {},
   "source": [
    "**Findings**\n",
    "\n",
    "The results from the four linear regression models suggest the following overall findings and conclusions:\n",
    "\n",
    "*TotalSteps and Sleep:*\n",
    "\n",
    "There is a significant negative relationship between 'TotalMinutesAsleep' and 'TotalSteps'. This means that, on average, for each additional minute asleep, the number of steps taken decreases. The relationship is statistically significant but has a relatively small effect size (Multiple R-squared of 0.05279), indicating that sleep minutes explain about 5% of the variability in the total steps taken.\n",
    "\n",
    "*Calories and Sleep:*\n",
    "\n",
    "The relationship between 'TotalMinutesAsleep' and 'Calories' is not statistically significant. This suggests that, within this dataset, the amount of sleep does not have a clear association with the number of calories burned.\n",
    "\n",
    "*SedentaryMinutes and Sleep:*\n",
    "\n",
    "A significant negative relationship exists between 'TotalMinutesAsleep' and 'SedentaryMinutes'. This indicates that more time spent sleeping is associated with fewer sedentary minutes, with a somewhat larger effect size (Multiple R-squared of 0.3049). Sleep minutes explain approximately 30% of the variability in sedentary minutes, which is a substantial proportion.\n",
    "\n",
    "*VeryActiveMinutes and Sleep:*\n",
    "\n",
    "There is a significant negative relationship between 'TotalMinutesAsleep' and 'VeryActiveMinutes', but the effect size is quite small (Multiple R-squared of 0.01371). This indicates that more sleep is associated with fewer very active minutes, but the effect is not strong.\n",
    "\n",
    "In summary, sleep duration appears to have the strongest relationship with sedentary behavior, with more sleep predicting less sedentary time. There is also a significant but smaller association with the number of steps taken, where more sleep predicts fewer steps. There's no significant relationship with calories burned, and a very small effect on very active minutes. These results suggest that individuals who sleep more tend to be less active overall, both in terms of total steps and sedentary minutes. However, the variability explained by sleep duration is relatively small for steps and very active minutes, which means other factors also play a significant role in determining these activities.\n",
    "\n",
    "This is in keeping with our previous analysis of correlations."
   ]
  },
  {
   "cell_type": "markdown",
   "id": "710bb088",
   "metadata": {},
   "source": [
    "## Conclusions and Recommendations\n",
    "\n",
    "**Overall Trends:**\n",
    "\n",
    "Activity levels peak during early mornings and evenings, reflecting a preference for users to engage in physical activities before and after traditional work hours. Notably, there's a \"lunchtime bump\" indicating midday activity, particularly on weekdays, suggesting some users capitalize on breaks for light exercise or movement.\n",
    "\n",
    "**Three Distinct Groups:**\n",
    "\n",
    "The analysis identified three user clusters with distinct activity patterns:\n",
    "\n",
    "* *The Power Movers:* Highly active, engaging in significant steps and intense activities, showing peaks in early morning and late evening.\n",
    "\n",
    "* *The Casual Navigators:* Show more sedentary behavior with less intense activity spikes, indicating a more relaxed or constrained lifestyle.\n",
    "\n",
    "* *The Consistent Pacers:* Exhibit moderate activity levels with steadier, more distributed activity throughout the day.\n",
    "\n",
    "**Trends in Sleep Patterns:**\n",
    "\n",
    "Sleep analysis reveals a strong negative correlation between 'TotalMinutesAsleep' and 'SedentaryMinutes', suggesting more sleep might lead to less sedentary behavior. The data also highlight that Sunday sees the most sleep, indicating a trend towards using weekends for recovery.\n",
    "\n",
    "**Activity Intensity and Caloric Burn:**\n",
    "\n",
    "While initial findings suggested a weak correlation between activity intensity and calories burned, further analysis showed a notable difference, especially with 'VeryActiveMinutes', underscoring the impact of intense physical activity on energy expenditure.\n",
    "\n",
    "**Business Insights:**\n",
    "\n",
    "*Trends in Smart Device Usage:*\n",
    "\n",
    "Smart device usage peaks around specific times (early morning, lunchtime, and evening) and varies across user types and weekdays versus weekends. This indicates users' desire for flexibility and adaptability in activity tracking that fits their lifestyle.\n",
    "\n",
    "*Application to Bellabeat Customers:*\n",
    "\n",
    "Bellabeat can tailor its products and services to accommodate the different user clusters by offering personalized activity and sleep insights. For example, providing motivational prompts for 'Casual Navigators' to reduce sedentary time or offering recovery tips for 'Power Movers' after intense activity sessions.\n",
    "\n",
    "*Influence on Bellabeat Marketing Strategy:*\n",
    "\n",
    "Highlighting the flexibility of Bellabeat products to track various activities and intensities throughout the day can appeal to a broad user base. Marketing campaigns could focus on the importance of balanced activity and recovery, showcasing how Bellabeat supports users in achieving their health and wellness goals. For 'Consistent Pacers', emphasizing the benefits of maintaining regular, moderate-intensity activities could be key. Additionally, insights into optimal activity times and the benefits of reducing sedentary behavior can inform content creation, product development, and targeted marketing strategies, encouraging a more active lifestyle among Bellabeat customers.\n",
    "\n",
    "Incorporating these findings into Bellabeat’s marketing and product strategy could significantly enhance user engagement and product appeal by aligning with customers' lifestyles and preferences."
   ]
  }
 ],
 "metadata": {
  "jupytext": {
   "cell_metadata_filter": "name,-all",
   "main_language": "R",
   "notebook_metadata_filter": "-all"
  }
 },
 "nbformat": 4,
 "nbformat_minor": 5
}
